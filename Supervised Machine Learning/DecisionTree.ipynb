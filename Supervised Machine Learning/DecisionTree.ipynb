{
 "cells": [
  {
   "cell_type": "markdown",
   "metadata": {},
   "source": [
    "Decision Tree --> Can be used for classification and Regression\n",
    "\n",
    "Decision Tree is a graphical representation of all the possible solutions to a decision based on conditions \n",
    "Works on conditions or questions \n",
    "\n",
    "Root Node --> Represents Entire Population (Entire Data)\n",
    "Leaf Node --> The Node cannot be further segregated\n",
    "\n",
    "splitting --> dividing the root node or subnode into different part on the basis of condition\n",
    "\n",
    "Pruning --> opposite of splitting --> It removes unwanted branch from tree\n",
    "\n",
    "\n",
    "Finding the best attribute for decision tree\n",
    "Entropy --> Measure of Randomness or unpredictability (∑-pi*log(pi)) --> pi --> probapility of class i\n",
    "Entropy --> 1 bad \n",
    "0 -> good\n",
    "\n",
    "\n",
    "Information Gain --> Measure of decrease in the entropy after the dataset is split \n",
    "IG = Ep(Entropy of parent Node) - ∑wi*Ec(Entropy of child Node)\n",
    "\n",
    "Gain = High Entropy (H2) - Low Entropy(H2)\n",
    "\n",
    "Entropy = -P(yes)logP(yes) - P(no)logP(no)\n",
    "P(yes) --> probability of yes\n",
    "\n",
    "--https://www.youtube.com/watch?v=ZVR2Way4nwQ\n"
   ]
  },
  {
   "cell_type": "code",
   "execution_count": 11,
   "metadata": {},
   "outputs": [],
   "source": [
    "training_data=[['Green',4,'Mango'],\n",
    "              ['Yellow',4,'Mango'],\n",
    "              ['Red',1,'Grape'],\n",
    "              ['Yellow',4,'Lemon']]"
   ]
  },
  {
   "cell_type": "code",
   "execution_count": 2,
   "metadata": {},
   "outputs": [
    {
     "data": {
      "text/plain": [
       "[['Green', 4, 'Mango'],\n",
       " ['Yellow', 3, 'Mango'],\n",
       " ['Red', 1, 'Grape'],\n",
       " ['Yellow', 4, 'Lemon']]"
      ]
     },
     "execution_count": 2,
     "metadata": {},
     "output_type": "execute_result"
    }
   ],
   "source": [
    "training_data"
   ]
  },
  {
   "cell_type": "code",
   "execution_count": 4,
   "metadata": {},
   "outputs": [],
   "source": [
    "header=[\"color\",\"diameter\",\"label\"]"
   ]
  },
  {
   "cell_type": "code",
   "execution_count": 5,
   "metadata": {},
   "outputs": [
    {
     "data": {
      "text/plain": [
       "['color', 'diameter', 'label']"
      ]
     },
     "execution_count": 5,
     "metadata": {},
     "output_type": "execute_result"
    }
   ],
   "source": [
    "header"
   ]
  },
  {
   "cell_type": "code",
   "execution_count": 6,
   "metadata": {},
   "outputs": [],
   "source": [
    "def unique_vals(rows,col):\n",
    "    return set([row[col] for row in rows]) #set is used to get unique values"
   ]
  },
  {
   "cell_type": "code",
   "execution_count": 8,
   "metadata": {},
   "outputs": [
    {
     "data": {
      "text/plain": [
       "{'Green', 'Red', 'Yellow'}"
      ]
     },
     "execution_count": 8,
     "metadata": {},
     "output_type": "execute_result"
    }
   ],
   "source": [
    "unique_vals(training_data,0)"
   ]
  },
  {
   "cell_type": "code",
   "execution_count": 12,
   "metadata": {},
   "outputs": [
    {
     "data": {
      "text/plain": [
       "{1, 4}"
      ]
     },
     "execution_count": 12,
     "metadata": {},
     "output_type": "execute_result"
    }
   ],
   "source": [
    "unique_vals(training_data,1)"
   ]
  },
  {
   "cell_type": "code",
   "execution_count": 13,
   "metadata": {},
   "outputs": [],
   "source": [
    "def class_counts(rows):\n",
    "    counts={} #a dictionary of label->count\n",
    "    for row in rows:\n",
    "        label=row[-1]\n",
    "        if label not in counts:\n",
    "            counts[label]=0\n",
    "        counts[label]+=1\n",
    "    return counts"
   ]
  },
  {
   "cell_type": "code",
   "execution_count": 14,
   "metadata": {},
   "outputs": [
    {
     "data": {
      "text/plain": [
       "{'Mango': 2, 'Grape': 1, 'Lemon': 1}"
      ]
     },
     "execution_count": 14,
     "metadata": {},
     "output_type": "execute_result"
    }
   ],
   "source": [
    "class_counts(training_data)"
   ]
  },
  {
   "cell_type": "code",
   "execution_count": 15,
   "metadata": {},
   "outputs": [],
   "source": [
    "def is_numeric(value):\n",
    "    return isinstance(value,int) or isinstance(value,float)"
   ]
  },
  {
   "cell_type": "code",
   "execution_count": 16,
   "metadata": {},
   "outputs": [
    {
     "data": {
      "text/plain": [
       "True"
      ]
     },
     "execution_count": 16,
     "metadata": {},
     "output_type": "execute_result"
    }
   ],
   "source": [
    "is_numeric(7)"
   ]
  },
  {
   "cell_type": "code",
   "execution_count": 18,
   "metadata": {},
   "outputs": [],
   "source": [
    "class Question:\n",
    "    def __init__(self,coloumn,value):\n",
    "        self.coloumn=coloumn\n",
    "        self.value=value\n",
    "        \n",
    "    def match(self,example):\n",
    "        val=example[self.coloumn]\n",
    "        if is_numeric(val):\n",
    "            return val>=self.value\n",
    "        else:\n",
    "            return val==self.value\n",
    "        \n",
    "    def __repr__(self):\n",
    "        condition=\"==\"\n",
    "        if is_numeric(self.value):\n",
    "            condition=\">=\"\n",
    "        return \"Is %s %s %s?\" % (header[self.coloumn],condition,str(self.value))"
   ]
  },
  {
   "cell_type": "code",
   "execution_count": 19,
   "metadata": {},
   "outputs": [],
   "source": [
    "q=Question(0,'Green')"
   ]
  },
  {
   "cell_type": "code",
   "execution_count": 20,
   "metadata": {},
   "outputs": [
    {
     "data": {
      "text/plain": [
       "Is color == Green?"
      ]
     },
     "execution_count": 20,
     "metadata": {},
     "output_type": "execute_result"
    },
    {
     "ename": "",
     "evalue": "",
     "output_type": "error",
     "traceback": [
      "\u001b[1;31mThe Kernel crashed while executing code in the current cell or a previous cell. \n",
      "\u001b[1;31mPlease review the code in the cell(s) to identify a possible cause of the failure. \n",
      "\u001b[1;31mClick <a href='https://aka.ms/vscodeJupyterKernelCrash'>here</a> for more info. \n",
      "\u001b[1;31mView Jupyter <a href='command:jupyter.viewOutput'>log</a> for further details."
     ]
    }
   ],
   "source": [
    "q"
   ]
  },
  {
   "cell_type": "code",
   "execution_count": null,
   "metadata": {},
   "outputs": [],
   "source": [
    "def partition(rows,question):\n",
    "    true_rows,false_rows=[],[]\n",
    "    for row in rows:\n",
    "        if question.match(row):\n",
    "            true_rows.append(row)\n",
    "        else:\n",
    "            false_rows.append(row)\n",
    "    return true_rows,false_rows"
   ]
  }
 ],
 "metadata": {
  "kernelspec": {
   "display_name": "Python 3",
   "language": "python",
   "name": "python3"
  },
  "language_info": {
   "codemirror_mode": {
    "name": "ipython",
    "version": 3
   },
   "file_extension": ".py",
   "mimetype": "text/x-python",
   "name": "python",
   "nbconvert_exporter": "python",
   "pygments_lexer": "ipython3",
   "version": "3.12.6"
  }
 },
 "nbformat": 4,
 "nbformat_minor": 2
}
