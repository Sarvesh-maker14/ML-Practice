{
 "cells": [
  {
   "cell_type": "markdown",
   "metadata": {},
   "source": [
    "Decision Tree --> Can be used for classification and Regression\n",
    "\n",
    "Decision Tree is a graphical representation of all the possible solutions to a decision based on conditions \n",
    "Works on conditions or questions \n",
    "\n",
    "Root Node --> Represents Entire Population (Entire Data)\n",
    "Leaf Node --> The Node cannot be further segregated\n",
    "\n",
    "splitting --> dividing the root node or subnode into different part on the basis of condition\n",
    "\n",
    "Pruning --> opposite of splitting --> It removes unwanted branch from tree\n",
    "\n",
    "\n",
    "Finding the best attribute for decision tree\n",
    "Entropy --> Measure of Randomness or unpredictability\n",
    "Information Gain --> Measure of decrease in the entropy after the dataset is split \n",
    "\n",
    "Gain = High Entropy (H2) - Low Entropy(H2)\n",
    "\n",
    "Entropy = -P(yes)logP(yes) - P(no)logP(no)\n",
    "P(yes) --> probability of yes\n"
   ]
  }
 ],
 "metadata": {
  "language_info": {
   "name": "python"
  }
 },
 "nbformat": 4,
 "nbformat_minor": 2
}
