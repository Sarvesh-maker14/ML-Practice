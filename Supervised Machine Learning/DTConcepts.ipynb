{
 "cells": [
  {
   "cell_type": "markdown",
   "metadata": {},
   "source": [
    "Entropy and Information Gain\n",
    "Entropy --> Measures Impurity , disorder or uncertianity in data \n",
    "\n",
    "\n",
    "Entropy = -P(yes)logP(yes) - P(no)logP(no)\n",
    "P(yes) --> probability of yes\n",
    "\n",
    "∑-pi*log(pi)) --> pi --> pi is a fraction of examples in given class\n",
    "\n",
    "E = 0 --> pure data\n",
    "E = 1 --> 50/50 (unpure)\n",
    "\n",
    "\n",
    "Information Gain = E(parent) - [Weight Avg]*E(children)\n",
    "\n",
    "Information Gain more --> for that attribute split\n",
    "\n",
    "DT Algo --> construct DT based on highest information gain\n"
   ]
  },
  {
   "cell_type": "code",
   "execution_count": 6,
   "metadata": {},
   "outputs": [],
   "source": [
    "import pandas as pd\n",
    "import numpy as np\n",
    "\n",
    "data = {\n",
    "    'Color': ['Green', 'Yellow', 'Red', 'Red', 'Yellow'],\n",
    "    'Size': ['Small', 'Small', 'Small', 'Large', 'Large'],\n",
    "    'Shape': ['Round', 'Round', 'Oblong', 'Round', 'Oblong'],\n",
    "    'Type': ['Apple', 'Apple', 'Grape', 'Grape', 'Lemon']\n",
    "}\n",
    "df = pd.DataFrame(data)"
   ]
  },
  {
   "cell_type": "code",
   "execution_count": 7,
   "metadata": {},
   "outputs": [
    {
     "name": "stdout",
     "output_type": "stream",
     "text": [
      "Total Entropy: 1.5219280948873621\n"
     ]
    }
   ],
   "source": [
    "from math import log2\n",
    "\n",
    "def entropy(target_col):\n",
    "    elements, counts = np.unique(target_col, return_counts=True)\n",
    "    entropy = sum([-counts[i]/len(target_col) * log2(counts[i]/len(target_col)) for i in range(len(elements))])\n",
    "    return entropy\n",
    "\n",
    "# Calculate the entropy of the entire dataset\n",
    "total_entropy = entropy(df['Type'])\n",
    "print(f'Total Entropy: {total_entropy}')"
   ]
  },
  {
   "cell_type": "code",
   "execution_count": 8,
   "metadata": {},
   "outputs": [
    {
     "name": "stdout",
     "output_type": "stream",
     "text": [
      "Information Gain for Color: 1.121928094887362\n"
     ]
    }
   ],
   "source": [
    "def info_gain(data, split_attribute_name, target_name=\"Type\"):\n",
    "    total_entropy = entropy(data[target_name])\n",
    "    vals, counts = np.unique(data[split_attribute_name], return_counts=True)\n",
    "    weighted_entropy = sum([(counts[i]/sum(counts)) * entropy(data.where(data[split_attribute_name]==vals[i]).dropna()[target_name]) for i in range(len(vals))])\n",
    "    information_gain = total_entropy - weighted_entropy\n",
    "    return information_gain\n",
    "\n",
    "# Calculate information gain for 'Color'\n",
    "gain_color = info_gain(df, 'Color')\n",
    "print(f'Information Gain for Color: {gain_color}')"
   ]
  },
  {
   "cell_type": "code",
   "execution_count": 9,
   "metadata": {},
   "outputs": [
    {
     "name": "stdout",
     "output_type": "stream",
     "text": [
      "Information Gain for Size: 0.5709505944546684\n"
     ]
    }
   ],
   "source": [
    "# Calculate information gain for 'Size'\n",
    "gain_size = info_gain(df, 'Size')\n",
    "print(f'Information Gain for Size: {gain_size}')"
   ]
  },
  {
   "cell_type": "code",
   "execution_count": 10,
   "metadata": {},
   "outputs": [
    {
     "name": "stdout",
     "output_type": "stream",
     "text": [
      "Information Gain for Shape: 0.5709505944546684\n"
     ]
    }
   ],
   "source": [
    "# Calculate information gain for 'Shape'\n",
    "gain_shape = info_gain(df, 'Shape')\n",
    "print(f'Information Gain for Shape: {gain_shape}')"
   ]
  }
 ],
 "metadata": {
  "kernelspec": {
   "display_name": "Python 3",
   "language": "python",
   "name": "python3"
  },
  "language_info": {
   "codemirror_mode": {
    "name": "ipython",
    "version": 3
   },
   "file_extension": ".py",
   "mimetype": "text/x-python",
   "name": "python",
   "nbconvert_exporter": "python",
   "pygments_lexer": "ipython3",
   "version": "3.12.6"
  }
 },
 "nbformat": 4,
 "nbformat_minor": 2
}
